{
 "cells": [
  {
   "cell_type": "code",
   "execution_count": 1,
   "id": "c5762d3a-db01-49ae-bc77-a6571b9c64b2",
   "metadata": {
    "tags": []
   },
   "outputs": [],
   "source": [
    "import numpy as np\n",
    "import matplotlib.pyplot as plt"
   ]
  },
  {
   "cell_type": "code",
   "execution_count": 3,
   "id": "49c346f0-7366-4ffb-860b-871bfe95f91e",
   "metadata": {
    "tags": []
   },
   "outputs": [],
   "source": [
    "import cv2"
   ]
  },
  {
   "cell_type": "code",
   "execution_count": 4,
   "id": "577a50b2-8ff7-4eff-a72c-5e2fd9ba1071",
   "metadata": {
    "tags": []
   },
   "outputs": [],
   "source": [
    "img = cv2.imread('00-puppy.jpg')"
   ]
  },
  {
   "cell_type": "code",
   "execution_count": 5,
   "id": "8a89465d-7714-4bea-8a25-566216760d16",
   "metadata": {
    "tags": []
   },
   "outputs": [
    {
     "data": {
      "text/plain": [
       "numpy.ndarray"
      ]
     },
     "execution_count": 5,
     "metadata": {},
     "output_type": "execute_result"
    }
   ],
   "source": [
    "type(img)"
   ]
  },
  {
   "cell_type": "code",
   "execution_count": 6,
   "id": "d6cc22e7-3b14-496a-b7ac-fbaa5908b8bd",
   "metadata": {
    "tags": []
   },
   "outputs": [],
   "source": [
    "# be careful, as incorrect paths are not flagged"
   ]
  },
  {
   "cell_type": "code",
   "execution_count": 7,
   "id": "eaa759f9-6cb8-44dc-8425-3efa4bd806ef",
   "metadata": {
    "tags": []
   },
   "outputs": [
    {
     "data": {
      "text/plain": [
       "(1300, 1950, 3)"
      ]
     },
     "execution_count": 7,
     "metadata": {},
     "output_type": "execute_result"
    }
   ],
   "source": [
    "img.shape"
   ]
  },
  {
   "cell_type": "code",
   "execution_count": null,
   "id": "0a9e52e7-7c7a-4bd9-9adb-669c449940cc",
   "metadata": {},
   "outputs": [],
   "source": []
  },
  {
   "cell_type": "code",
   "execution_count": null,
   "id": "5a46d7d9-e42e-416f-afb3-ec66ac6955dc",
   "metadata": {},
   "outputs": [],
   "source": []
  }
 ],
 "metadata": {
  "kernelspec": {
   "display_name": "Python 3 (ipykernel)",
   "language": "python",
   "name": "python3"
  },
  "language_info": {
   "codemirror_mode": {
    "name": "ipython",
    "version": 3
   },
   "file_extension": ".py",
   "mimetype": "text/x-python",
   "name": "python",
   "nbconvert_exporter": "python",
   "pygments_lexer": "ipython3",
   "version": "3.11.2"
  }
 },
 "nbformat": 4,
 "nbformat_minor": 5
}
