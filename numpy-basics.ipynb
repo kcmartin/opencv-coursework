{
 "cells": [
  {
   "cell_type": "code",
   "execution_count": 29,
   "id": "f5666cef-4b0a-4610-9701-f57f792c7bb9",
   "metadata": {
    "tags": []
   },
   "outputs": [],
   "source": [
    "#numpy basics"
   ]
  },
  {
   "cell_type": "code",
   "execution_count": 5,
   "id": "721c2045-8270-4804-b147-811b3eb1375d",
   "metadata": {
    "tags": []
   },
   "outputs": [],
   "source": [
    "import numpy as np"
   ]
  },
  {
   "cell_type": "code",
   "execution_count": 6,
   "id": "e808efe8-ac90-493a-b28c-ff676094d9f2",
   "metadata": {},
   "outputs": [],
   "source": [
    "mylist = [1,2,3]"
   ]
  },
  {
   "cell_type": "code",
   "execution_count": 7,
   "id": "4deda2df-b55f-432b-a59f-8b6eddd66722",
   "metadata": {
    "tags": []
   },
   "outputs": [
    {
     "data": {
      "text/plain": [
       "list"
      ]
     },
     "execution_count": 7,
     "metadata": {},
     "output_type": "execute_result"
    }
   ],
   "source": [
    "type(mylist)"
   ]
  },
  {
   "cell_type": "code",
   "execution_count": 8,
   "id": "09953030-585b-4ba4-8205-df537e3868fc",
   "metadata": {
    "tags": []
   },
   "outputs": [],
   "source": [
    "myarray = np.array(mylist)"
   ]
  },
  {
   "cell_type": "code",
   "execution_count": 9,
   "id": "0ea3478a-c37c-4dbb-af78-e1bd8c87417d",
   "metadata": {
    "tags": []
   },
   "outputs": [
    {
     "data": {
      "text/plain": [
       "array([1, 2, 3])"
      ]
     },
     "execution_count": 9,
     "metadata": {},
     "output_type": "execute_result"
    }
   ],
   "source": [
    "myarray"
   ]
  },
  {
   "cell_type": "code",
   "execution_count": 10,
   "id": "2fcd0e12-920d-4d4f-a30b-12814ba655e7",
   "metadata": {
    "tags": []
   },
   "outputs": [
    {
     "data": {
      "text/plain": [
       "numpy.ndarray"
      ]
     },
     "execution_count": 10,
     "metadata": {},
     "output_type": "execute_result"
    }
   ],
   "source": [
    "type(myarray)"
   ]
  },
  {
   "cell_type": "code",
   "execution_count": 12,
   "id": "9b2cef1e-8a7b-47f9-9fe3-b9df0df34552",
   "metadata": {
    "tags": []
   },
   "outputs": [
    {
     "data": {
      "text/plain": [
       "array([0, 2, 4, 6, 8])"
      ]
     },
     "execution_count": 12,
     "metadata": {},
     "output_type": "execute_result"
    }
   ],
   "source": [
    "np.arange(0,10,2)"
   ]
  },
  {
   "cell_type": "code",
   "execution_count": 14,
   "id": "4fe7d99a-5dcb-4cd7-a8c4-169efdf15fd0",
   "metadata": {
    "tags": []
   },
   "outputs": [
    {
     "data": {
      "text/plain": [
       "array([[0., 0., 0., 0., 0.],\n",
       "       [0., 0., 0., 0., 0.],\n",
       "       [0., 0., 0., 0., 0.],\n",
       "       [0., 0., 0., 0., 0.],\n",
       "       [0., 0., 0., 0., 0.],\n",
       "       [0., 0., 0., 0., 0.],\n",
       "       [0., 0., 0., 0., 0.],\n",
       "       [0., 0., 0., 0., 0.],\n",
       "       [0., 0., 0., 0., 0.],\n",
       "       [0., 0., 0., 0., 0.]])"
      ]
     },
     "execution_count": 14,
     "metadata": {},
     "output_type": "execute_result"
    }
   ],
   "source": [
    "np.zeros(shape=(10,5))"
   ]
  },
  {
   "cell_type": "code",
   "execution_count": 15,
   "id": "e7d22d92-8846-4cd7-bbb9-12c7a66ee6f1",
   "metadata": {
    "tags": []
   },
   "outputs": [
    {
     "data": {
      "text/plain": [
       "array([[1., 1., 1., 1.],\n",
       "       [1., 1., 1., 1.]])"
      ]
     },
     "execution_count": 15,
     "metadata": {},
     "output_type": "execute_result"
    }
   ],
   "source": [
    "np.ones(shape=(2,4))"
   ]
  },
  {
   "cell_type": "code",
   "execution_count": null,
   "id": "c490195b-fffd-4e87-b8b6-b17bfec1d6dd",
   "metadata": {},
   "outputs": [],
   "source": []
  },
  {
   "cell_type": "code",
   "execution_count": 17,
   "id": "f0ed3cc9-6dd0-4a99-9b57-ef7ff3606ae6",
   "metadata": {
    "tags": []
   },
   "outputs": [],
   "source": [
    "np.random.seed(101)\n",
    "arr = np.random.randint(0,100,10)"
   ]
  },
  {
   "cell_type": "code",
   "execution_count": 18,
   "id": "973f76ff-7363-4ad4-8562-9a545d74e299",
   "metadata": {
    "tags": []
   },
   "outputs": [
    {
     "data": {
      "text/plain": [
       "array([95, 11, 81, 70, 63, 87, 75,  9, 77, 40])"
      ]
     },
     "execution_count": 18,
     "metadata": {},
     "output_type": "execute_result"
    }
   ],
   "source": [
    "arr"
   ]
  },
  {
   "cell_type": "code",
   "execution_count": 19,
   "id": "0b6091f8-2fc8-475e-972e-dbd1b164e705",
   "metadata": {
    "tags": []
   },
   "outputs": [],
   "source": [
    "arr2 =np.random.randint(0,100,10)"
   ]
  },
  {
   "cell_type": "code",
   "execution_count": 20,
   "id": "b8e82bee-b579-46b0-86b8-ac0889fd165b",
   "metadata": {
    "tags": []
   },
   "outputs": [
    {
     "data": {
      "text/plain": [
       "array([ 4, 63, 40, 60, 92, 64,  5, 12, 93, 40])"
      ]
     },
     "execution_count": 20,
     "metadata": {},
     "output_type": "execute_result"
    }
   ],
   "source": [
    "arr2"
   ]
  },
  {
   "cell_type": "code",
   "execution_count": 21,
   "id": "a0931edf-b2fa-4816-beee-ea2c6f0d6869",
   "metadata": {
    "tags": []
   },
   "outputs": [
    {
     "data": {
      "text/plain": [
       "95"
      ]
     },
     "execution_count": 21,
     "metadata": {},
     "output_type": "execute_result"
    }
   ],
   "source": [
    "#max value of array\n",
    "arr.max()"
   ]
  },
  {
   "cell_type": "code",
   "execution_count": 22,
   "id": "009437f8-ed35-407b-903e-fc86430f0f70",
   "metadata": {
    "tags": []
   },
   "outputs": [
    {
     "data": {
      "text/plain": [
       "0"
      ]
     },
     "execution_count": 22,
     "metadata": {},
     "output_type": "execute_result"
    }
   ],
   "source": [
    "arr.argmax()"
   ]
  },
  {
   "cell_type": "code",
   "execution_count": 23,
   "id": "8e53d4f6-49bd-4d7f-898e-7b55ba22ef3c",
   "metadata": {
    "tags": []
   },
   "outputs": [
    {
     "data": {
      "text/plain": [
       "9"
      ]
     },
     "execution_count": 23,
     "metadata": {},
     "output_type": "execute_result"
    }
   ],
   "source": [
    "#min value\n",
    "arr.min()"
   ]
  },
  {
   "cell_type": "code",
   "execution_count": 24,
   "id": "4d390d40-fccb-484a-934a-afb8eac2512c",
   "metadata": {
    "tags": []
   },
   "outputs": [
    {
     "data": {
      "text/plain": [
       "7"
      ]
     },
     "execution_count": 24,
     "metadata": {},
     "output_type": "execute_result"
    }
   ],
   "source": [
    "arr.argmin()"
   ]
  },
  {
   "cell_type": "code",
   "execution_count": 25,
   "id": "7f839c16-ed18-4365-a118-9a0cf58401e9",
   "metadata": {
    "tags": []
   },
   "outputs": [
    {
     "data": {
      "text/plain": [
       "60.8"
      ]
     },
     "execution_count": 25,
     "metadata": {},
     "output_type": "execute_result"
    }
   ],
   "source": [
    "arr.mean()"
   ]
  },
  {
   "cell_type": "code",
   "execution_count": 27,
   "id": "0b1d0120-2364-43c1-8b62-ffe6ef783c26",
   "metadata": {
    "tags": []
   },
   "outputs": [
    {
     "data": {
      "text/plain": [
       "(10,)"
      ]
     },
     "execution_count": 27,
     "metadata": {},
     "output_type": "execute_result"
    }
   ],
   "source": [
    "#reshape arrays\n",
    "arr.shape"
   ]
  },
  {
   "cell_type": "code",
   "execution_count": 28,
   "id": "7d52ad32-5fbc-4176-b8a2-0ad76f62af7f",
   "metadata": {
    "tags": []
   },
   "outputs": [
    {
     "data": {
      "text/plain": [
       "array([[95, 11, 81, 70, 63],\n",
       "       [87, 75,  9, 77, 40]])"
      ]
     },
     "execution_count": 28,
     "metadata": {},
     "output_type": "execute_result"
    }
   ],
   "source": [
    "arr.reshape((2,5))"
   ]
  },
  {
   "cell_type": "code",
   "execution_count": null,
   "id": "c285f50d-ced0-4d8b-bfcc-6568f6dbfb97",
   "metadata": {},
   "outputs": [],
   "source": []
  },
  {
   "cell_type": "code",
   "execution_count": 33,
   "id": "5b74415d-b376-4b95-87d0-6880bdce1843",
   "metadata": {
    "tags": []
   },
   "outputs": [],
   "source": [
    "#matrix\n",
    "mat = np.arange(0,100).reshape(10,10)"
   ]
  },
  {
   "cell_type": "code",
   "execution_count": 34,
   "id": "dc9b9970-bd5c-4354-8c95-771bdd9393e7",
   "metadata": {
    "tags": []
   },
   "outputs": [
    {
     "data": {
      "text/plain": [
       "array([[ 0,  1,  2,  3,  4,  5,  6,  7,  8,  9],\n",
       "       [10, 11, 12, 13, 14, 15, 16, 17, 18, 19],\n",
       "       [20, 21, 22, 23, 24, 25, 26, 27, 28, 29],\n",
       "       [30, 31, 32, 33, 34, 35, 36, 37, 38, 39],\n",
       "       [40, 41, 42, 43, 44, 45, 46, 47, 48, 49],\n",
       "       [50, 51, 52, 53, 54, 55, 56, 57, 58, 59],\n",
       "       [60, 61, 62, 63, 64, 65, 66, 67, 68, 69],\n",
       "       [70, 71, 72, 73, 74, 75, 76, 77, 78, 79],\n",
       "       [80, 81, 82, 83, 84, 85, 86, 87, 88, 89],\n",
       "       [90, 91, 92, 93, 94, 95, 96, 97, 98, 99]])"
      ]
     },
     "execution_count": 34,
     "metadata": {},
     "output_type": "execute_result"
    }
   ],
   "source": [
    "mat"
   ]
  },
  {
   "cell_type": "code",
   "execution_count": 35,
   "id": "c0604567-837d-452b-a14a-209604f325d0",
   "metadata": {
    "tags": []
   },
   "outputs": [],
   "source": [
    "row = 0\n",
    "col = 1"
   ]
  },
  {
   "cell_type": "code",
   "execution_count": 36,
   "id": "9a77f7a2-f2e3-4a23-90af-7c92551ce6fc",
   "metadata": {
    "tags": []
   },
   "outputs": [
    {
     "data": {
      "text/plain": [
       "1"
      ]
     },
     "execution_count": 36,
     "metadata": {},
     "output_type": "execute_result"
    }
   ],
   "source": [
    "mat[row,col]"
   ]
  },
  {
   "cell_type": "code",
   "execution_count": 37,
   "id": "296f50c6-b5e5-4c0c-894d-1616627a6339",
   "metadata": {
    "tags": []
   },
   "outputs": [],
   "source": [
    "#grab a specific number (57)\n",
    "row = 5\n",
    "col = 7"
   ]
  },
  {
   "cell_type": "code",
   "execution_count": 38,
   "id": "d26e2ad0-30e9-4eff-9600-764e0b4d4d49",
   "metadata": {
    "tags": []
   },
   "outputs": [
    {
     "data": {
      "text/plain": [
       "57"
      ]
     },
     "execution_count": 38,
     "metadata": {},
     "output_type": "execute_result"
    }
   ],
   "source": [
    "mat[row,col]"
   ]
  },
  {
   "cell_type": "code",
   "execution_count": 40,
   "id": "2cbe2b85-d9e2-44c2-b5af-76cee392e3ce",
   "metadata": {
    "tags": []
   },
   "outputs": [
    {
     "data": {
      "text/plain": [
       "array([ 1, 11, 21, 31, 41, 51, 61, 71, 81, 91])"
      ]
     },
     "execution_count": 40,
     "metadata": {},
     "output_type": "execute_result"
    }
   ],
   "source": [
    "#slicing\n",
    "#everything in a column\n",
    "mat[:,1]"
   ]
  },
  {
   "cell_type": "code",
   "execution_count": 42,
   "id": "03f64044-e25d-4240-9f76-46917b5ae733",
   "metadata": {
    "tags": []
   },
   "outputs": [
    {
     "data": {
      "text/plain": [
       "array([ 1, 11, 21, 31, 41, 51, 61, 71, 81, 91])"
      ]
     },
     "execution_count": 42,
     "metadata": {},
     "output_type": "execute_result"
    }
   ],
   "source": [
    "#slice and reshape\n",
    "mat[:,1].reshape(10)"
   ]
  },
  {
   "cell_type": "code",
   "execution_count": 43,
   "id": "440a20cd-25eb-4de0-ba67-f6b673b26d94",
   "metadata": {
    "tags": []
   },
   "outputs": [],
   "source": [
    "#reshape column"
   ]
  },
  {
   "cell_type": "code",
   "execution_count": 44,
   "id": "f0f8f00e-8d99-48ac-b3c4-d62ece16ce63",
   "metadata": {
    "tags": []
   },
   "outputs": [
    {
     "data": {
      "text/plain": [
       "array([[ 1],\n",
       "       [11],\n",
       "       [21],\n",
       "       [31],\n",
       "       [41],\n",
       "       [51],\n",
       "       [61],\n",
       "       [71],\n",
       "       [81],\n",
       "       [91]])"
      ]
     },
     "execution_count": 44,
     "metadata": {},
     "output_type": "execute_result"
    }
   ],
   "source": [
    "mat[:,1].reshape(10,1)"
   ]
  },
  {
   "cell_type": "code",
   "execution_count": 45,
   "id": "72e0954c-65e5-459e-bf95-cc524dd2cdf4",
   "metadata": {
    "tags": []
   },
   "outputs": [
    {
     "data": {
      "text/plain": [
       "array([20, 21, 22, 23, 24, 25, 26, 27, 28, 29])"
      ]
     },
     "execution_count": 45,
     "metadata": {},
     "output_type": "execute_result"
    }
   ],
   "source": [
    "#slice row\n",
    "mat[2,:]"
   ]
  },
  {
   "cell_type": "code",
   "execution_count": 48,
   "id": "9ff40702-70d9-40e8-a6d9-0b1c07441d7b",
   "metadata": {
    "tags": []
   },
   "outputs": [
    {
     "data": {
      "text/plain": [
       "array([[ 0,  1,  2],\n",
       "       [10, 11, 12],\n",
       "       [20, 21, 22]])"
      ]
     },
     "execution_count": 48,
     "metadata": {},
     "output_type": "execute_result"
    }
   ],
   "source": [
    "#more slicing rows and columns\n",
    "# same as normal python slicing notation\n",
    "mat[0:3,0:3]"
   ]
  },
  {
   "cell_type": "code",
   "execution_count": 49,
   "id": "46519a08-0b42-48ac-b647-91d7c462cc2b",
   "metadata": {
    "tags": []
   },
   "outputs": [],
   "source": [
    "# reassign some values in matrix\n",
    "mat[0:3,0:3] = 0"
   ]
  },
  {
   "cell_type": "code",
   "execution_count": 50,
   "id": "e3f0a2da-2eac-4521-b640-83d0baaa0dd9",
   "metadata": {
    "tags": []
   },
   "outputs": [
    {
     "data": {
      "text/plain": [
       "array([[ 0,  0,  0,  3,  4,  5,  6,  7,  8,  9],\n",
       "       [ 0,  0,  0, 13, 14, 15, 16, 17, 18, 19],\n",
       "       [ 0,  0,  0, 23, 24, 25, 26, 27, 28, 29],\n",
       "       [30, 31, 32, 33, 34, 35, 36, 37, 38, 39],\n",
       "       [40, 41, 42, 43, 44, 45, 46, 47, 48, 49],\n",
       "       [50, 51, 52, 53, 54, 55, 56, 57, 58, 59],\n",
       "       [60, 61, 62, 63, 64, 65, 66, 67, 68, 69],\n",
       "       [70, 71, 72, 73, 74, 75, 76, 77, 78, 79],\n",
       "       [80, 81, 82, 83, 84, 85, 86, 87, 88, 89],\n",
       "       [90, 91, 92, 93, 94, 95, 96, 97, 98, 99]])"
      ]
     },
     "execution_count": 50,
     "metadata": {},
     "output_type": "execute_result"
    }
   ],
   "source": [
    "mat"
   ]
  },
  {
   "cell_type": "code",
   "execution_count": 51,
   "id": "6c4c7df8-3270-4dd6-b003-c06a3e468ebf",
   "metadata": {
    "tags": []
   },
   "outputs": [],
   "source": [
    "# or reassign values in a copy of matrix\n",
    "mynewmat = mat.copy()"
   ]
  },
  {
   "cell_type": "code",
   "execution_count": 56,
   "id": "9dff3146-ce1c-43ba-8a49-ecc25b0368f0",
   "metadata": {
    "tags": []
   },
   "outputs": [],
   "source": [
    "# example change values in first 6 rows to 999\n",
    "mynewmat[0:6,:] = 999"
   ]
  },
  {
   "cell_type": "code",
   "execution_count": 57,
   "id": "756ad8c3-c73d-4498-8dd2-49bdc95f8728",
   "metadata": {
    "tags": []
   },
   "outputs": [
    {
     "data": {
      "text/plain": [
       "array([[999, 999, 999, 999, 999, 999, 999, 999, 999, 999],\n",
       "       [999, 999, 999, 999, 999, 999, 999, 999, 999, 999],\n",
       "       [999, 999, 999, 999, 999, 999, 999, 999, 999, 999],\n",
       "       [999, 999, 999, 999, 999, 999, 999, 999, 999, 999],\n",
       "       [999, 999, 999, 999, 999, 999, 999, 999, 999, 999],\n",
       "       [999, 999, 999, 999, 999, 999, 999, 999, 999, 999],\n",
       "       [ 60,  61,  62,  63,  64,  65,  66,  67,  68,  69],\n",
       "       [ 70,  71,  72,  73,  74,  75,  76,  77,  78,  79],\n",
       "       [ 80,  81,  82,  83,  84,  85,  86,  87,  88,  89],\n",
       "       [ 90,  91,  92,  93,  94,  95,  96,  97,  98,  99]])"
      ]
     },
     "execution_count": 57,
     "metadata": {},
     "output_type": "execute_result"
    }
   ],
   "source": [
    "mynewmat"
   ]
  },
  {
   "cell_type": "code",
   "execution_count": null,
   "id": "a6bb4e08-e16f-4048-9342-de387d80e352",
   "metadata": {},
   "outputs": [],
   "source": []
  }
 ],
 "metadata": {
  "kernelspec": {
   "display_name": "Python 3 (ipykernel)",
   "language": "python",
   "name": "python3"
  },
  "language_info": {
   "codemirror_mode": {
    "name": "ipython",
    "version": 3
   },
   "file_extension": ".py",
   "mimetype": "text/x-python",
   "name": "python",
   "nbconvert_exporter": "python",
   "pygments_lexer": "ipython3",
   "version": "3.11.2"
  }
 },
 "nbformat": 4,
 "nbformat_minor": 5
}
